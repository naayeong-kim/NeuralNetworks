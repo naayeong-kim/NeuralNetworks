{
 "cells": [
  {
   "cell_type": "markdown",
   "metadata": {},
   "source": [
    "# Hopfield networks\n",
    "\n",
    "Learning goals:\n",
    "1. Get familiar with energy functions and with updating Hopfield networks by hand\n",
    "1. Implement a Hopfield network that fulfills a constraint\n",
    "1. Implement, train and test a Hopfield network on images"
   ]
  },
  {
   "cell_type": "code",
   "execution_count": 1,
   "metadata": {},
   "outputs": [],
   "source": [
    "%matplotlib inline\n",
    "import matplotlib.pyplot as plt\n",
    "import matplotlib.image as mpimg\n",
    "import numpy as np\n",
    "import urllib\n",
    "import skimage as ski"
   ]
  },
  {
   "cell_type": "markdown",
   "metadata": {},
   "source": [
    "### Exercise 1: Flip-flop  (2 points)\n",
    "Consider a Hopfield network consisting of two binary variables $x_1$ and $x_2$ with biases $\\theta_1 = 0.5$ and $\\theta_2 = 0.5$, and weights $w_{ij} = -1$. This network implements a so-called flip-flop. \n",
    "1. What is the energy function of this network? *(Write down the standard form of $E(\\mathbf{x})$, insert the values and simplify it.)*\n",
    "1. What are the possible energy levels of this network? *(Given the possible state combinations for $x_1$ and $x_2$ in a Hopfield network, which values can $E(\\mathbf{x})$ have?)*\n",
    "1. What are the stable states of this network?"
   ]
  },
  {
   "cell_type": "markdown",
   "metadata": {},
   "source": [
    "### Solution 1\n",
    "1. $E(x)= x_1*x_2 - 0.5x_1 - 0.5x_2$\n",
    "1. The possible energy levels are 0 when both variables are 0, -0.5 if one variable is 1 and -1 if both variables are 1.\n",
    "1. Only the two states where only one x is active are stable."
   ]
  },
  {
   "cell_type": "markdown",
   "metadata": {},
   "source": [
    "### Exercise 2: Hopfield net\n",
    "Consider a Hopfield network with weights\n",
    "\\begin{equation}\n",
    "\\mathbf{W} =\n",
    "\\left[\n",
    "\\begin{array}{llll}\n",
    "0 & -0.2 & -0.4 & 0\\\\\n",
    "-0.2 & 0 & 0.5 & 0.3\\\\\n",
    "-0.4 & 0.5 & 0 & 0.8\\\\\n",
    "0 & 0.3 & 0.8 & 0\n",
    "\\end{array}\n",
    "\\right]\n",
    "\\end{equation}\n",
    "and biases\n",
    "$\\boldsymbol{\\theta} = (-0.5,-0.3,-0.8,0.2)$.\n",
    "1. What is the state of the Hopfield network after one sequential update of the first, second, third and fourth node when we start at the initial node state $\\mathbf{x} = (0,1,1,1)$? \n",
    "1. What do you conclude from your observation?"
   ]
  },
  {
   "cell_type": "markdown",
   "metadata": {},
   "source": [
    "### Solution 2  (1 point)\n",
    "1. The state is [0, 1, 1, 1].\n",
    "1. Since none of the states changed, the network is already in a stable state."
   ]
  },
  {
   "cell_type": "markdown",
   "metadata": {},
   "source": [
    "### Exercise 3 : A Hopfield network that fulfills a constraint (2 points)\n",
    "\n",
    "In this exercise you will run a Hopfield model that converges to a state that fulfills a constraint. \n",
    "\n",
    "1. Implement a function `optimize(n)` which returns a length `n` vector of node states. The constraint it should solve is that all nodes should be set to `0`, except for a single random node set to `1`.\n",
    "1. Show that your function works for different values of `n`.\n",
    "\n",
    "Start from random node states. Choose and implement the necessary weights and biases manually (i.e. you do not train the Hopfield network here). The resulting vector should be the configuration of the network when it has converged to a stable state. Make sure that your implementation fulfills all requirements for Hopfield networks to converge to stable states."
   ]
  },
  {
   "cell_type": "markdown",
   "metadata": {},
   "source": [
    "### Solution 3"
   ]
  },
  {
   "cell_type": "code",
   "execution_count": 2,
   "metadata": {},
   "outputs": [],
   "source": [
    "# The optimization function\n",
    "def optimize(n):\n",
    "    state = np.zeros(n)\n",
    "    state[np.random.randint(n)] = 1\n",
    "    w = np.ones([n,n])*-2\n",
    "    np.fill_diagonal(w,0)\n",
    "    bias = np.ones(n)\n",
    "    iterations = 0\n",
    "    while iterations < 10000:\n",
    "        for i in range(len(state)):\n",
    "            a = np.sum(np.multiply(w[i], state)) + bias[i]\n",
    "            if a >= 0:\n",
    "                state[i] = 1\n",
    "            else:\n",
    "                state[i] = 0\n",
    "        iterations += 1\n",
    "    print(state)"
   ]
  },
  {
   "cell_type": "code",
   "execution_count": 3,
   "metadata": {},
   "outputs": [
    {
     "name": "stdout",
     "output_type": "stream",
     "text": [
      "[0. 0. 0. 1.]\n",
      "[1. 0.]\n",
      "[0. 0. 1. 0. 0. 0. 0. 0. 0. 0.]\n"
     ]
    }
   ],
   "source": [
    "# Print solutions\n",
    "optimize(4)\n",
    "optimize(2)\n",
    "optimize(10)"
   ]
  },
  {
   "cell_type": "markdown",
   "metadata": {},
   "source": [
    "### Training a Hopfield network on given patterns\n",
    "\n",
    "You will now implement a Hopfield network that learns to reconstruct given images. Here you can *a) ignore the bias term*; and *b) use bipolar nodes*. \n",
    "\n",
    "The next cells load an image, resize it and store it together with a mirrored version of the same image in the variables `x1` and `x2`, which will be stacked in the training data `X`. These are your *input patterns*. "
   ]
  },
  {
   "cell_type": "code",
   "execution_count": 4,
   "metadata": {},
   "outputs": [],
   "source": [
    "# The source image\n",
    "f = urllib.request.urlopen(\"https://homepages.cae.wisc.edu/~ece533/images/watch.png\")\n",
    "\n",
    "# Read the image\n",
    "x1 = mpimg.imread(f)\n",
    "x1 = ski.transform.resize(x1, (76, 102), mode=\"reflect\", anti_aliasing=True)\n",
    "\n",
    "# Make 2D and bipolar\n",
    "x1 = np.mean(x1, axis=2)\n",
    "x1[x1 < np.mean(x1.flatten())] = -1 # Black\n",
    "x1[x1 >= np.mean(x1.flatten())] = 1 # White\n",
    "x1.astype(\"int32\")\n",
    "\n",
    "# Make duplicate but mirrored second image\n",
    "x2 = np.fliplr(x1)\n",
    "\n",
    "# Flatten images\n",
    "sz = x1.shape\n",
    "X = np.stack((x1.flatten(), x2.flatten()), axis=1)"
   ]
  },
  {
   "cell_type": "code",
   "execution_count": 5,
   "metadata": {},
   "outputs": [
    {
     "data": {
      "text/plain": [
       "Text(0.5, 1.0, 'x2')"
      ]
     },
     "execution_count": 5,
     "metadata": {},
     "output_type": "execute_result"
    },
    {
     "data": {
      "image/png": "[encoded data removed]",
      "text/plain": [
       "<Figure size 720x360 with 2 Axes>"
      ]
     },
     "metadata": {},
     "output_type": "display_data"
    }
   ],
   "source": [
    "fig, ax = plt.subplots(1, 2, figsize=(10, 5))\n",
    "\n",
    "ax[0].imshow(X[:, 0].reshape(sz), cmap=\"gray\")\n",
    "ax[0].set_xticks([], [])\n",
    "ax[0].set_yticks([], [])\n",
    "ax[0].set_title(\"x1\")\n",
    "\n",
    "ax[1].imshow(X[:, 1].reshape(sz), cmap=\"gray\")\n",
    "ax[1].set_xticks([], [])\n",
    "ax[1].set_yticks([], [])\n",
    "ax[1].set_title(\"x2\")"
   ]
  },
  {
   "cell_type": "markdown",
   "metadata": {},
   "source": [
    "### Exercise 4: Hopfield training  (1 point)\n",
    "Write a function `hopfield_train(X)` which takes the $n$ *input patterns* `X` (shape $(m,n)$) as argument and returns the weight matrix `w` for a trained Hopfield network with $m$ nodes. Initialize the weights with zeros and then implement the learning rule for the weights. Again, make sure that your network fulfills the requirements for Hopfield network convergence. \n",
    "\n",
    "Note that you can write the weight update term per *input pattern* in a single line using the dot product. "
   ]
  },
  {
   "cell_type": "markdown",
   "metadata": {},
   "source": [
    "### Solution 4"
   ]
  },
  {
   "cell_type": "code",
   "execution_count": 6,
   "metadata": {},
   "outputs": [],
   "source": [
    "# Hopfield training\n",
    "def hopfield_train(X):\n",
    "    m, n = X.shape\n",
    "    \n",
    "    # Initialize weights\n",
    "    w = np.zeros([m,m])\n",
    "                  \n",
    "    # Hebbian learning\n",
    "    for pattern in range(n):\n",
    "        for i in range(m):\n",
    "            for j in range(m):\n",
    "                w[i][j] = w[i][j] + X[i][pattern]*X[j][pattern]\n",
    "    \n",
    "    # Avoid self-connections (diagonal)\n",
    "        np.fill_diagonal(w,0)\n",
    "        \n",
    "    return w"
   ]
  },
  {
   "cell_type": "markdown",
   "metadata": {},
   "source": [
    "### Exercise 5  (1 points)\n",
    "Write a function `hopfield_test(X, w, n_epochs)` which takes the $n$ initial states `X` (shape $(m,n)$) and the learned weights `w` and updates all units in random order for `n_epochs` times (i.e., which \"runs\" your trained Hopfield network for `n_epochs` rounds). The return value should be the updated states of the Hopfield network. Make sure that your iteration fulfills the requirements for Hopfield network convergence."
   ]
  },
  {
   "cell_type": "markdown",
   "metadata": {},
   "source": [
    "### Solution 5"
   ]
  },
  {
   "cell_type": "code",
   "execution_count": 7,
   "metadata": {},
   "outputs": [],
   "source": [
    "# Hopfield testing\n",
    "def hopfield_test(X, w, n_epochs=10):\n",
    "    \n",
    "    # Loop over epochs\n",
    "    for epoch in range(n_epochs):\n",
    "        Y = np.copy(X)\n",
    "        \n",
    "        # Loop over examples\n",
    "        for example in range(X.shape[1]):\n",
    "            order = np.arange(X.shape[0])\n",
    "            np.random.shuffle(order)\n",
    "        \n",
    "            # Loop over nodes\n",
    "            for node in order:                \n",
    "\n",
    "                # Update node\n",
    "                a = w[node]@Y[:,example]\n",
    "                if a >= 0:\n",
    "                    Y[node][example] = 1\n",
    "                else:\n",
    "                    Y[node][example] = 0\n",
    "            \n",
    "    return Y"
   ]
  },
  {
   "cell_type": "markdown",
   "metadata": {},
   "source": [
    "### Exercise 6  (1 points)\n",
    "Train your hopfield network on the two *input patterns* in `X` and save the weights. "
   ]
  },
  {
   "cell_type": "markdown",
   "metadata": {},
   "source": [
    "### Solution 6"
   ]
  },
  {
   "cell_type": "code",
   "execution_count": 8,
   "metadata": {},
   "outputs": [],
   "source": [
    "# Run hopfield training\n",
    "weights = hopfield_train(X)"
   ]
  },
  {
   "cell_type": "markdown",
   "metadata": {},
   "source": [
    "### Exercise 7 (2 points)\n",
    "\n",
    "Test whether your trained Hopfield net can reconstruct the original images when starting from different degrees of corruption (which means randomly changing the pattern's node states). Make use of the function `corrupt_images` for this. \n",
    "\n",
    "1. Choose 4 degrees of corruption (between min: 10%, max: 100%) you want to test. Corrupt the original input images in `X` accordingly.  \n",
    "1. Run your trained Hopfield network with the corrupted images as input. It may not need to run for long time. \n",
    "1. For both patterns show the original, the corrupted and the reconstructed images next to each other. \n",
    "1. For each of the degrees of corruption, comment on what you see. "
   ]
  },
  {
   "cell_type": "code",
   "execution_count": 9,
   "metadata": {},
   "outputs": [],
   "source": [
    "def corrupt_images(X, percentage=25):\n",
    "    Xhat = X.copy()\n",
    "    n_pixels = int(X.shape[0] * percentage / 100)\n",
    "    for i_example in range(X.shape[1]):\n",
    "        idx = np.random.permutation(X.shape[0])[:n_pixels]\n",
    "        Xhat[idx, i_example] = 2 * np.random.randint(0, 2, n_pixels) - 1\n",
    "    return Xhat"
   ]
  },
  {
   "cell_type": "markdown",
   "metadata": {},
   "source": [
    "### Solution 7"
   ]
  },
  {
   "cell_type": "code",
   "execution_count": 15,
   "metadata": {},
   "outputs": [
    {
     "data": {
      "image/png": "[encoded data removed]",
      "text/plain": [
       "<Figure size 720x360 with 6 Axes>"
      ]
     },
     "metadata": {},
     "output_type": "display_data"
    }
   ],
   "source": [
    "# Corrupt images\n",
    "corr10 = corrupt_images(X, 10)\n",
    "\n",
    "# Test associative memory properties\n",
    "test = hopfield_test(corr10, weights)\n",
    "\n",
    "# Plot results\n",
    "fig, ax = plt.subplots(2, 3, figsize=(10, 5))\n",
    "\n",
    "ax[0,0].imshow(corr10[:, 0].reshape(sz), cmap=\"gray\")\n",
    "ax[0,0].set_xticks([], [])\n",
    "ax[0,0].set_yticks([], [])\n",
    "ax[0,0].set_title(\"corrupted\")\n",
    "\n",
    "ax[1,0].imshow(corr10[:, 1].reshape(sz), cmap=\"gray\")\n",
    "ax[1,0].set_xticks([], [])\n",
    "ax[1,0].set_yticks([], [])\n",
    "ax[1,0].set_title(\"corrupted\")\n",
    "\n",
    "ax[0,1].imshow(test[:, 0].reshape(sz), cmap=\"gray\")\n",
    "ax[0,1].set_xticks([], [])\n",
    "ax[0,1].set_yticks([], [])\n",
    "ax[0,1].set_title(\"hopfield\")\n",
    "\n",
    "ax[1,1].imshow(test[:, 1].reshape(sz), cmap=\"gray\")\n",
    "ax[1,1].set_xticks([], [])\n",
    "ax[1,1].set_yticks([], [])\n",
    "ax[1,1].set_title(\"hopfield\")\n",
    "\n",
    "ax[0,2].imshow(X[:, 0].reshape(sz), cmap=\"gray\")\n",
    "ax[0,2].set_xticks([], [])\n",
    "ax[0,2].set_yticks([], [])\n",
    "ax[0,2].set_title(\"original\")\n",
    "\n",
    "ax[1,2].imshow(X[:, 1].reshape(sz), cmap=\"gray\")\n",
    "ax[1,2].set_xticks([], [])\n",
    "ax[1,2].set_yticks([], [])\n",
    "ax[1,2].set_title(\"original\")\n",
    "\n",
    "plt.show()"
   ]
  },
  {
   "cell_type": "markdown",
   "metadata": {},
   "source": [
    "When the picture was corrupted with a degree of 10, it looks different, but is still recognizable as a pocket watch. The reconstruction with the hopfield seems to be perfectly recovered, since there appears to be no difference between the original and the recovered image."
   ]
  },
  {
   "cell_type": "code",
   "execution_count": 11,
   "metadata": {},
   "outputs": [
    {
     "data": {
      "image/png": "[encoded data removed]",
      "text/plain": [
       "<Figure size 720x360 with 6 Axes>"
      ]
     },
     "metadata": {},
     "output_type": "display_data"
    }
   ],
   "source": [
    "# Corrupt images\n",
    "corr30 = corrupt_images(X, 30)\n",
    "\n",
    "# Test associative memory properties\n",
    "test = hopfield_test(corr30, weights)\n",
    "\n",
    "# Plot results\n",
    "fig, ax = plt.subplots(2, 3, figsize=(10, 5))\n",
    "\n",
    "ax[0,0].imshow(corr30[:, 0].reshape(sz), cmap=\"gray\")\n",
    "ax[0,0].set_xticks([], [])\n",
    "ax[0,0].set_yticks([], [])\n",
    "ax[0,0].set_title(\"corrupted\")\n",
    "\n",
    "ax[1,0].imshow(corr30[:, 1].reshape(sz), cmap=\"gray\")\n",
    "ax[1,0].set_xticks([], [])\n",
    "ax[1,0].set_yticks([], [])\n",
    "ax[1,0].set_title(\"corrupted\")\n",
    "\n",
    "ax[0,1].imshow(test[:, 0].reshape(sz), cmap=\"gray\")\n",
    "ax[0,1].set_xticks([], [])\n",
    "ax[0,1].set_yticks([], [])\n",
    "ax[0,1].set_title(\"hopfield\")\n",
    "\n",
    "ax[1,1].imshow(test[:, 1].reshape(sz), cmap=\"gray\")\n",
    "ax[1,1].set_xticks([], [])\n",
    "ax[1,1].set_yticks([], [])\n",
    "ax[1,1].set_title(\"hopfield\")\n",
    "\n",
    "ax[0,2].imshow(X[:, 0].reshape(sz), cmap=\"gray\")\n",
    "ax[0,2].set_xticks([], [])\n",
    "ax[0,2].set_yticks([], [])\n",
    "ax[0,2].set_title(\"original\")\n",
    "\n",
    "ax[1,2].imshow(X[:, 1].reshape(sz), cmap=\"gray\")\n",
    "ax[1,2].set_xticks([], [])\n",
    "ax[1,2].set_yticks([], [])\n",
    "ax[1,2].set_title(\"original\")\n",
    "\n",
    "plt.show()"
   ]
  },
  {
   "cell_type": "markdown",
   "metadata": {
    "collapsed": true
   },
   "source": [
    "After corrupting the image with 30 degrees, the pocket watch is a lot less easy to see, however it can still be recognized. The recovered hopfield still appears to have no differences from the original."
   ]
  },
  {
   "cell_type": "code",
   "execution_count": 12,
   "metadata": {},
   "outputs": [
    {
     "data": {
      "image/png": "[encoded data removed]",
      "text/plain": [
       "<Figure size 720x360 with 6 Axes>"
      ]
     },
     "metadata": {},
     "output_type": "display_data"
    }
   ],
   "source": [
    "# Corrupt images\n",
    "corr60 = corrupt_images(X, 60)\n",
    "\n",
    "# Test associative memory properties\n",
    "test = hopfield_test(corr60, weights)\n",
    "\n",
    "# Plot results\n",
    "fig, ax = plt.subplots(2, 3, figsize=(10, 5))\n",
    "\n",
    "ax[0,0].imshow(corr60[:, 0].reshape(sz), cmap=\"gray\")\n",
    "ax[0,0].set_xticks([], [])\n",
    "ax[0,0].set_yticks([], [])\n",
    "ax[0,0].set_title(\"corrupted\")\n",
    "\n",
    "ax[1,0].imshow(corr60[:, 1].reshape(sz), cmap=\"gray\")\n",
    "ax[1,0].set_xticks([], [])\n",
    "ax[1,0].set_yticks([], [])\n",
    "ax[1,0].set_title(\"corrupted\")\n",
    "\n",
    "ax[0,1].imshow(test[:, 0].reshape(sz), cmap=\"gray\")\n",
    "ax[0,1].set_xticks([], [])\n",
    "ax[0,1].set_yticks([], [])\n",
    "ax[0,1].set_title(\"hopfield\")\n",
    "\n",
    "ax[1,1].imshow(test[:, 1].reshape(sz), cmap=\"gray\")\n",
    "ax[1,1].set_xticks([], [])\n",
    "ax[1,1].set_yticks([], [])\n",
    "ax[1,1].set_title(\"hopfield\")\n",
    "\n",
    "ax[0,2].imshow(X[:, 0].reshape(sz), cmap=\"gray\")\n",
    "ax[0,2].set_xticks([], [])\n",
    "ax[0,2].set_yticks([], [])\n",
    "ax[0,2].set_title(\"original\")\n",
    "\n",
    "ax[1,2].imshow(X[:, 1].reshape(sz), cmap=\"gray\")\n",
    "ax[1,2].set_xticks([], [])\n",
    "ax[1,2].set_yticks([], [])\n",
    "ax[1,2].set_title(\"original\")\n",
    "\n",
    "plt.show()"
   ]
  },
  {
   "cell_type": "markdown",
   "metadata": {
    "collapsed": true
   },
   "source": [
    "With a 60 degree corruption, the pocket watch is not really recognaizable anymore, only the vague shape can be made out. However the recovered image seems to still be perfect."
   ]
  },
  {
   "cell_type": "code",
   "execution_count": 13,
   "metadata": {},
   "outputs": [
    {
     "data": {
      "image/png": "[encoded data removed]",
      "text/plain": [
       "<Figure size 720x360 with 6 Axes>"
      ]
     },
     "metadata": {},
     "output_type": "display_data"
    }
   ],
   "source": [
    "# Corrupt images\n",
    "corr100 = corrupt_images(X, 100)\n",
    "\n",
    "# Test associative memory properties\n",
    "test = hopfield_test(corr100, weights)\n",
    "\n",
    "# Plot results\n",
    "fig, ax = plt.subplots(2, 3, figsize=(10, 5))\n",
    "\n",
    "ax[0,0].imshow(corr100[:, 0].reshape(sz), cmap=\"gray\")\n",
    "ax[0,0].set_xticks([], [])\n",
    "ax[0,0].set_yticks([], [])\n",
    "ax[0,0].set_title(\"corrupted\")\n",
    "\n",
    "ax[1,0].imshow(corr100[:, 1].reshape(sz), cmap=\"gray\")\n",
    "ax[1,0].set_xticks([], [])\n",
    "ax[1,0].set_yticks([], [])\n",
    "ax[1,0].set_title(\"corrupted\")\n",
    "\n",
    "ax[0,1].imshow(test[:, 0].reshape(sz), cmap=\"gray\")\n",
    "ax[0,1].set_xticks([], [])\n",
    "ax[0,1].set_yticks([], [])\n",
    "ax[0,1].set_title(\"hopfield\")\n",
    "\n",
    "ax[1,1].imshow(test[:, 1].reshape(sz), cmap=\"gray\")\n",
    "ax[1,1].set_xticks([], [])\n",
    "ax[1,1].set_yticks([], [])\n",
    "ax[1,1].set_title(\"hopfield\")\n",
    "\n",
    "ax[0,2].imshow(X[:, 0].reshape(sz), cmap=\"gray\")\n",
    "ax[0,2].set_xticks([], [])\n",
    "ax[0,2].set_yticks([], [])\n",
    "ax[0,2].set_title(\"original\")\n",
    "\n",
    "ax[1,2].imshow(X[:, 1].reshape(sz), cmap=\"gray\")\n",
    "ax[1,2].set_xticks([], [])\n",
    "ax[1,2].set_yticks([], [])\n",
    "ax[1,2].set_title(\"original\")\n",
    "\n",
    "plt.show()"
   ]
  },
  {
   "cell_type": "markdown",
   "metadata": {
    "collapsed": true
   },
   "source": [
    "With a 100 degree of corruption, the pocket watch can't be seen at all anymore. The recovered image has the colours flipped, that means that all pixels that were white in the original are now black and the other way around. "
   ]
  }
 ],
 "metadata": {
  "anaconda-cloud": {},
  "kernelspec": {
   "display_name": "Python 3",
   "language": "python",
   "name": "python3"
  },
  "language_info": {
   "codemirror_mode": {
    "name": "ipython",
    "version": 3
   },
   "file_extension": ".py",
   "mimetype": "text/x-python",
   "name": "python",
   "nbconvert_exporter": "python",
   "pygments_lexer": "ipython3",
   "version": "3.8.3"
  }
 },
 "nbformat": 4,
 "nbformat_minor": 1
}
