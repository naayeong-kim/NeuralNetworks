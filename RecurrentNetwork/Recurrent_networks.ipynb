{
 "cells": [
  {
   "cell_type": "markdown",
   "metadata": {},
   "source": [
    "##### Author contributions\n",
    "Please fill out for each of the following parts who contributed to what:\n",
    "- Conceived ideas: \n",
    "- Performed math exercises: \n",
    "- Performed programming exercises:\n",
    "- Contributed to the overall final assignment: \n",
    "\n",
    "Both of us (Nayeong and Annabelle) did all of the mentioned parts above (aside from the math part since we choose to use code instead)."
   ]
  },
  {
   "cell_type": "markdown",
   "metadata": {},
   "source": [
    "# Recurrent neural networks\n",
    "\n",
    "\n",
    "    Hand-in bug-free (try \"Kernel\" > \"Restart & Run All\") and including all (textual as well as figural) output via Brightspace before the deadline (see Brightspace).\n",
    "\n",
    "Learning goals:\n",
    "1. Get familiar with recurrent hidden units\n",
    "1. Implement a simple RNN (Elman network) in PyTorch\n",
    "1. Implement an LSTM-based neural network in PyTorch"
   ]
  },
  {
   "cell_type": "code",
   "execution_count": 91,
   "metadata": {},
   "outputs": [],
   "source": [
    "%matplotlib inline\n",
    "import matplotlib.pyplot as plt\n",
    "import numpy as np\n",
    "import torch\n",
    "import torch.nn as nn\n",
    "import torch.nn.functional as F\n",
    "import torch.optim as optim\n",
    "import torchvision\n",
    "import torchvision.transforms as transforms"
   ]
  },
  {
   "cell_type": "markdown",
   "metadata": {},
   "source": [
    "### Exercise 1  (1 point)"
   ]
  },
  {
   "cell_type": "markdown",
   "metadata": {},
   "source": [
    "Consider a recurrent neural network with one input unit $x$, one sigmoid recurrent hidden unit $h$, and one linear output unit $y$. The values of $x$ are given for 3 time points in `x_t`. As this is a very small RNN, $W^i$, $W^h$ and $W^o$ are given as the scalar values `w_i`, `w_h` and `w_o` respectively. The hidden unit has an added bias `h_bias`. The hidden unit state is initialized with `0.0`. The only 'value-manipulating' activation function in this network is the sigmoid activation $\\sigma(\\cdot)$ on the hidden unit. \n",
    "\n",
    "1. Write down the forward pass of this network for a specific time point $t$. \n",
    "1. What is the value of the hidden state $h$ after processing the last input `x_t[2]`? \n",
    "1. What is the output `y` of the network after processing the last input `x_t[2]`? \n",
    "\n",
    "\\begin{eqnarray*}\n",
    "h_t &=& \\sigma(Ux(t)+Wh(t-1)+bias)\\\\ \n",
    "y_t &=& \\sigma(Vh(t)+bias)\\\\\n",
    "\\end{eqnarray*}\n",
    "\n",
    "\n",
    "For 1.2 and 1.3, you can either compute the solution by hand (show clearly how you arrived there, 3 decimal points) or write code to find the answer. "
   ]
  },
  {
   "cell_type": "code",
   "execution_count": 92,
   "metadata": {},
   "outputs": [],
   "source": [
    "# inputs over times 0, 1, 2:\n",
    "x_t = [9.0, 4.0, -2.0]\n",
    "\n",
    "# weights and bias terms: \n",
    "w_i = 0.5\n",
    "w_h = -1.0\n",
    "w_o = -0.7\n",
    "h_bias = -1.0\n",
    "y_bias = 0.0"
   ]
  },
  {
   "cell_type": "markdown",
   "metadata": {},
   "source": [
    "### Solution 1"
   ]
  },
  {
   "cell_type": "code",
   "execution_count": 93,
   "metadata": {},
   "outputs": [
    {
     "name": "stdout",
     "output_type": "stream",
     "text": [
      "The value of the hidden state is -0.7072252802268861.\n",
      "The output is 0.621297170441984.\n"
     ]
    }
   ],
   "source": [
    "## LaTex or code here ##\n",
    "def sigmoid(x):\n",
    "    return 1/(1+np.exp(-x))\n",
    "\n",
    "h_t = 0.0\n",
    "\n",
    "for i in range(len(x_t)):\n",
    "    h_t = sigmoid(w_i*x_t[i]+w_h*h_t)+h_bias\n",
    "    y_t = sigmoid(w_o*h_t)+y_bias\n",
    "    \n",
    "print('The value of the hidden state is {}.'.format(h_t))\n",
    "print(\"The output is {}.\".format(y_t))"
   ]
  },
  {
   "cell_type": "markdown",
   "metadata": {},
   "source": [
    "### Code introduction\n",
    "\n",
    "We will apply two recurrent neural networks to learn a dynamic variant of the *adding problem*. First, run the next cell and inspect the output. \n",
    "\n",
    "There is a stream of inputs to the network, two at each time step. The first input unit will receive a series of decimal numbers in the interval $[-1,1]$. The second input unit will receive the numbers $0$, $-1$, or $1$. The target is the sum of the preceding two decimal numbers that came together with the number $1$ (called the marker, `x` in the generated output), and it should be produced whenever a marker has been seen. In the beginning until two of these markers have been seen, the output will stay 0. \n",
    "\n",
    "\n",
    "Below you will find two functions: \n",
    "1. `create_addition_data`: Generates sequential training data sets `X` and `T` for the dynamic *adding problem*, returns numpy array.\n",
    "1. `MyDataset`: a custom PyTorch dataset that makes sure dimensions are as PyTorch likes them, and can return individual samples the way PyTorch wants them.\n",
    "\n",
    "Note, the data are represented in a dictionary called `data`. To access the training, validation, and testing data, you can call `data[\"train\"]`, `data[\"valid]`, and `data[\"test\"]` respectively."
   ]
  },
  {
   "cell_type": "code",
   "execution_count": 94,
   "metadata": {},
   "outputs": [],
   "source": [
    "def create_addition_data(n_samples=3000):\n",
    "    # This is a dynamic variant of the adding problem. \n",
    "    \n",
    "    # Random numbers in [-1.0,1.0]): \n",
    "    X1 = np.random.uniform(low=-1.0, high=1.0, size=(n_samples,) )   \n",
    "    \n",
    "    # Random markers [-1.0, 0.0, 1.0] (1.0 marks the numbers that should be added):\n",
    "    X2 = np.random.choice([-1.0, 0.0, 1.0], size=(n_samples,), p=[0.25, 0.25, 0.5])\n",
    "    \n",
    "    # Combine\n",
    "    X = np.vstack((X1, X2)).T.astype(\"float32\")\n",
    "\n",
    "    # Create targets\n",
    "    T = np.zeros((n_samples, 1)).astype(\"float32\")\n",
    "\n",
    "    # Get indices of 1.0\n",
    "    markers = np.nonzero(X2 == 1.0)[0]\n",
    "    \n",
    "    # Generate data\n",
    "    mem = X1[markers[0]]\n",
    "    for mi, marker in enumerate(markers[1:]):\n",
    "        T[marker] = mem + X1[marker]\n",
    "        mem = X1[marker]\n",
    "                \n",
    "    return X, T"
   ]
  },
  {
   "cell_type": "code",
   "execution_count": 95,
   "metadata": {
    "scrolled": true
   },
   "outputs": [
    {
     "name": "stdout",
     "output_type": "stream",
     "text": [
      "Data for the adding problem (x marks 1.0):\n",
      "Time: 000 \t x: (-0.498 , x) \t t: +0.000 \n",
      "Time: 001 \t x: (-0.734 , x) \t t: -1.231 \n",
      "Time: 002 \t x: (-0.100 ,  ) \t t: +0.000 \n",
      "Time: 003 \t x: (+0.545 , x) \t t: -0.189 \n",
      "Time: 004 \t x: (-0.997 ,  ) \t t: +0.000 \n",
      "Time: 005 \t x: (+0.928 ,  ) \t t: +0.000 \n",
      "Time: 006 \t x: (-0.833 , x) \t t: -0.288 \n",
      "Time: 007 \t x: (+0.386 ,  ) \t t: +0.000 \n",
      "Time: 008 \t x: (+0.640 , x) \t t: -0.193 \n",
      "Time: 009 \t x: (-0.079 , x) \t t: +0.560 \n",
      "Time: 010 \t x: (+0.714 , x) \t t: +0.634 \n",
      "Time: 011 \t x: (-0.089 ,  ) \t t: +0.000 \n",
      "Time: 012 \t x: (-0.058 , x) \t t: +0.655 \n",
      "Time: 013 \t x: (+0.918 ,  ) \t t: +0.000 \n",
      "Time: 014 \t x: (+0.978 , x) \t t: +0.920 \n",
      "Time: 015 \t x: (-0.029 ,  ) \t t: +0.000 \n",
      "Time: 016 \t x: (+0.164 ,  ) \t t: +0.000 \n",
      "Time: 017 \t x: (+0.450 , x) \t t: +1.429 \n",
      "Time: 018 \t x: (-0.072 , x) \t t: +0.379 \n",
      "Time: 019 \t x: (+0.826 , x) \t t: +0.754 \n",
      "Time: 020 \t x: (+0.397 ,  ) \t t: +0.000 \n",
      "Time: 021 \t x: (-0.515 , x) \t t: +0.310 \n",
      "Time: 022 \t x: (-0.284 , x) \t t: -0.799 \n",
      "Time: 023 \t x: (-0.417 , x) \t t: -0.701 \n",
      "Time: 024 \t x: (+0.572 ,  ) \t t: +0.000 \n",
      "Time: 025 \t x: (-0.311 ,  ) \t t: +0.000 \n",
      "Time: 026 \t x: (-0.782 ,  ) \t t: +0.000 \n",
      "Time: 027 \t x: (-0.423 , x) \t t: -0.840 \n",
      "Time: 028 \t x: (+0.429 ,  ) \t t: +0.000 \n",
      "Time: 029 \t x: (+0.767 , x) \t t: +0.344 \n",
      "Time: 030 \t x: (+0.181 ,  ) \t t: +0.000 \n",
      "Time: 031 \t x: (-0.711 ,  ) \t t: +0.000 \n",
      "Time: 032 \t x: (+0.345 ,  ) \t t: +0.000 \n",
      "Time: 033 \t x: (-0.275 , x) \t t: +0.491 \n",
      "Time: 034 \t x: (+0.476 , x) \t t: +0.201 \n",
      "Time: 035 \t x: (+0.835 , x) \t t: +1.311 \n",
      "Time: 036 \t x: (-0.118 , x) \t t: +0.716 \n",
      "Time: 037 \t x: (+0.834 ,  ) \t t: +0.000 \n",
      "Time: 038 \t x: (+0.459 ,  ) \t t: +0.000 \n",
      "Time: 039 \t x: (+0.162 , x) \t t: +0.044 \n",
      "Time: 040 \t x: (+0.390 ,  ) \t t: +0.000 \n",
      "Time: 041 \t x: (+0.387 ,  ) \t t: +0.000 \n",
      "Time: 042 \t x: (-0.233 ,  ) \t t: +0.000 \n",
      "Time: 043 \t x: (+0.290 , x) \t t: +0.452 \n",
      "Time: 044 \t x: (+0.272 , x) \t t: +0.561 \n",
      "Time: 045 \t x: (-0.505 ,  ) \t t: +0.000 \n",
      "Time: 046 \t x: (+0.477 , x) \t t: +0.749 \n",
      "Time: 047 \t x: (+0.953 , x) \t t: +1.429 \n",
      "Time: 048 \t x: (+0.899 ,  ) \t t: +0.000 \n",
      "Time: 049 \t x: (+0.259 ,  ) \t t: +0.000 \n",
      "Time: 050 \t x: (-0.740 ,  ) \t t: +0.000 \n",
      "Time: 051 \t x: (+0.061 , x) \t t: +1.014 \n",
      "Time: 052 \t x: (-0.404 ,  ) \t t: +0.000 \n",
      "Time: 053 \t x: (+0.470 ,  ) \t t: +0.000 \n",
      "Time: 054 \t x: (-0.553 , x) \t t: -0.492 \n",
      "Time: 055 \t x: (-0.325 , x) \t t: -0.878 \n",
      "Time: 056 \t x: (-0.437 ,  ) \t t: +0.000 \n",
      "Time: 057 \t x: (-0.127 , x) \t t: -0.452 \n",
      "Time: 058 \t x: (+0.783 ,  ) \t t: +0.000 \n",
      "Time: 059 \t x: (+0.460 ,  ) \t t: +0.000 \n",
      "Time: 060 \t x: (+0.392 ,  ) \t t: +0.000 \n",
      "Time: 061 \t x: (+0.488 , x) \t t: +0.361 \n",
      "Time: 062 \t x: (+0.531 ,  ) \t t: +0.000 \n",
      "Time: 063 \t x: (-0.497 , x) \t t: -0.009 \n",
      "Time: 064 \t x: (+0.119 ,  ) \t t: +0.000 \n",
      "Time: 065 \t x: (+0.824 , x) \t t: +0.326 \n",
      "Time: 066 \t x: (+0.068 ,  ) \t t: +0.000 \n",
      "Time: 067 \t x: (-0.835 , x) \t t: -0.011 \n",
      "Time: 068 \t x: (+0.997 ,  ) \t t: +0.000 \n",
      "Time: 069 \t x: (-0.363 , x) \t t: -1.198 \n",
      "Time: 070 \t x: (+0.861 ,  ) \t t: +0.000 \n",
      "Time: 071 \t x: (-0.316 ,  ) \t t: +0.000 \n",
      "Time: 072 \t x: (-0.518 , x) \t t: -0.880 \n",
      "Time: 073 \t x: (-0.021 ,  ) \t t: +0.000 \n",
      "Time: 074 \t x: (-0.448 ,  ) \t t: +0.000 \n",
      "Time: 075 \t x: (+0.462 ,  ) \t t: +0.000 \n",
      "Time: 076 \t x: (+0.764 , x) \t t: +0.247 \n",
      "Time: 077 \t x: (+0.929 , x) \t t: +1.693 \n",
      "Time: 078 \t x: (-0.019 ,  ) \t t: +0.000 \n",
      "Time: 079 \t x: (-0.027 , x) \t t: +0.902 \n",
      "Time: 080 \t x: (-0.337 , x) \t t: -0.364 \n",
      "Time: 081 \t x: (-0.704 ,  ) \t t: +0.000 \n",
      "Time: 082 \t x: (+0.995 ,  ) \t t: +0.000 \n",
      "Time: 083 \t x: (+0.502 , x) \t t: +0.164 \n",
      "Time: 084 \t x: (+0.871 , x) \t t: +1.373 \n",
      "Time: 085 \t x: (-0.324 ,  ) \t t: +0.000 \n",
      "Time: 086 \t x: (-0.538 , x) \t t: +0.333 \n",
      "Time: 087 \t x: (+0.258 , x) \t t: -0.280 \n",
      "Time: 088 \t x: (-0.787 , x) \t t: -0.529 \n",
      "Time: 089 \t x: (+0.354 , x) \t t: -0.433 \n",
      "Time: 090 \t x: (-0.731 , x) \t t: -0.377 \n",
      "Time: 091 \t x: (-0.167 ,  ) \t t: +0.000 \n",
      "Time: 092 \t x: (-0.033 , x) \t t: -0.764 \n",
      "Time: 093 \t x: (+0.910 , x) \t t: +0.877 \n",
      "Time: 094 \t x: (-0.195 ,  ) \t t: +0.000 \n",
      "Time: 095 \t x: (+0.421 ,  ) \t t: +0.000 \n",
      "Time: 096 \t x: (-0.756 ,  ) \t t: +0.000 \n",
      "Time: 097 \t x: (+0.511 ,  ) \t t: +0.000 \n",
      "Time: 098 \t x: (-0.507 ,  ) \t t: +0.000 \n",
      "Time: 099 \t x: (-0.529 , x) \t t: +0.380 \n"
     ]
    }
   ],
   "source": [
    "# Long as the markers x are sparse\n",
    "X, T = create_addition_data(n_samples=100)\n",
    "\n",
    "# Print some data\n",
    "print(\"Data for the adding problem (x marks 1.0):\")\n",
    "for t in range(X.shape[0]):\n",
    "    print(\"Time: {:03d} \\t x: ({:+.3f} , {}) \\t t: {:+.3f} \".format(\n",
    "        t, X[t,0], 'x' if X[t,1] == 1.0 else ' ', T[t,0]))"
   ]
  },
  {
   "cell_type": "code",
   "execution_count": 96,
   "metadata": {},
   "outputs": [],
   "source": [
    "# Make PyTorch dataset\n",
    "class MyDataset(torch.utils.data.Dataset):\n",
    "    \n",
    "    def __init__(self, X, T):\n",
    "        self.X = torch.from_numpy(X).type(torch.FloatTensor) # [n_examples, n_samples, n_features]\n",
    "        self.T = torch.from_numpy(T).type(torch.FloatTensor) # [n_examples, n_samples]\n",
    "        \n",
    "    def __getitem__(self, index):\n",
    "        return self.X[index, :, :], self.T[index]\n",
    "    \n",
    "    def __len__(self):\n",
    "        return self.X.size()[0]"
   ]
  },
  {
   "cell_type": "code",
   "execution_count": 97,
   "metadata": {},
   "outputs": [],
   "source": [
    "n_examples = 9\n",
    "n_samples = 3000\n",
    "data = {}\n",
    "\n",
    "# Define training data\n",
    "X = np.zeros((n_examples, n_samples, 2))\n",
    "T = np.zeros((n_examples, n_samples, 1))\n",
    "for i_example in range(n_examples):\n",
    "    X[i_example, :, :], T[i_example, :] = create_addition_data(n_samples)\n",
    "data[\"train\"] = torch.utils.data.DataLoader(MyDataset(X, T), batch_size=3)\n",
    "\n",
    "# Define validation data\n",
    "X = np.zeros((n_examples, n_samples, 2))\n",
    "T = np.zeros((n_examples, n_samples, 1))\n",
    "for i_example in range(n_examples):\n",
    "    X[i_example, :, :], T[i_example, :] = create_addition_data(n_samples)\n",
    "data[\"valid\"] = torch.utils.data.DataLoader(MyDataset(X, T), batch_size=3)\n",
    "\n",
    "# Define test data\n",
    "X = np.zeros((n_examples, n_samples, 2))\n",
    "T = np.zeros((n_examples, n_samples, 1))\n",
    "for i_example in range(n_examples):\n",
    "    X[i_example, :, :], T[i_example, :] = create_addition_data(n_samples)\n",
    "data[\"test\"] = torch.utils.data.DataLoader(MyDataset(X, T), batch_size=1)"
   ]
  },
  {
   "cell_type": "markdown",
   "metadata": {},
   "source": [
    "### Exercise 2: training a network  (0.5 points)\n",
    "\n",
    "We neede a function to train a `model`. This function `train_model(model, data, optimizer, criterion, n_epochs)` should do the following: \n",
    "\n",
    "1. Loop `n_epochs` times over the dataset, and loop over minibatches\n",
    "1. Train the model on the training data and save the loss per epoch\n",
    "1. Validate the model on the validation data and save the loss per epoch\n",
    "1. The function should return the trained model and the losses\n",
    "\n",
    "Note: this function is quite similar again as the function your wrote wor the MLP and CNN. The only difference is that we do not need to compute an accuracy, as we are performing regression here."
   ]
  },
  {
   "cell_type": "markdown",
   "metadata": {},
   "source": [
    "### Solution 2"
   ]
  },
  {
   "cell_type": "code",
   "execution_count": 98,
   "metadata": {},
   "outputs": [],
   "source": [
    "def train_model(model, data, optimizer, criterion, n_epochs):\n",
    "    train_data = data[\"train\"]\n",
    "    valid_data = data[\"valid\"]\n",
    "    train_loss = []\n",
    "    valid_loss = []\n",
    "    \n",
    "    for epoch in range(n_epochs):\n",
    "        #print(epoch)\n",
    "        tem_val_loss = 0\n",
    "        tem_train_loss = 0\n",
    "        \n",
    "        for i, d in enumerate(train_data):\n",
    "            inputs, labels = d\n",
    "            \n",
    "            #Forward\n",
    "            output = model(inputs)\n",
    "            \n",
    "            #Loss\n",
    "            loss = criterion(output, labels)     \n",
    "            \n",
    "            #Backward\n",
    "            optimizer.zero_grad()\n",
    "            loss.backward()\n",
    "            optimizer.step()\n",
    "            \n",
    "            tem_train_loss += loss.item()\n",
    "            \n",
    "            #print(\"{}, {} loss: {}\".format(epoch+1, i+1, tem_train_loss))\n",
    "            train_loss.append(tem_train_loss)\n",
    "            tem_train_loss = 0.0\n",
    "            \n",
    "            \n",
    "        for i, d in enumerate(valid_data):\n",
    "            inputs, labels = d\n",
    "\n",
    "            #Forward\n",
    "            output = model(inputs)\n",
    "             \n",
    "            #Loss\n",
    "            validation_loss = criterion(output, labels)\n",
    "            tem_val_loss += validation_loss.item()\n",
    "            \n",
    "            #print(\"{}, {} loss: {}\".format(epoch+1, i+1, tem_val_loss))\n",
    "            valid_loss.append(tem_val_loss)\n",
    "            tem_val_loss = 0.0\n",
    "    \n",
    "    return model, train_loss, valid_loss"
   ]
  },
  {
   "cell_type": "markdown",
   "metadata": {},
   "source": [
    "### Exercise 3: Testing a network  (1.5 points)\n",
    "\n",
    "We neede a function to test a trained `model`. This function `test_model(model, data)` should do the following: \n",
    "\n",
    "1. Let `model` predict outputs on the testing data. For this, iterate through test data `data[\"test]` and pass each sample through `model`. \n",
    "1. Save the model output as well as the target output\n",
    "1. The function should return the predicted and target outputs"
   ]
  },
  {
   "cell_type": "markdown",
   "metadata": {},
   "source": [
    "### Solution 3"
   ]
  },
  {
   "cell_type": "code",
   "execution_count": 99,
   "metadata": {},
   "outputs": [],
   "source": [
    "def test_model(model, data):\n",
    "    test_data = data[\"test\"]\n",
    "    outputs = []\n",
    "    targets = []\n",
    "    for i, d in enumerate(test_data):\n",
    "        x, target = d\n",
    "        output = model(x)\n",
    "        outputs.append(output)\n",
    "        targets.append(target)\n",
    "    return outputs, targets        "
   ]
  },
  {
   "cell_type": "markdown",
   "metadata": {},
   "source": [
    "### Exercise 4: Simple RNN  (3 points)\n",
    "\n",
    "We first implement a simple recurrent architecture (a simple [Elman network](http://mnemstudio.org/neural-networks-elman.htm)). \n",
    "\n",
    "1. First implement the linear layers `l1` and `l2`. They should lead from `n_input` input units over `n_hidden` hidden units to `n_out` output units.\n",
    "1. Add a recurrent linear weight layer `hr`. These are weights that self-connect to the hidden units. The input will be the values of the `n_hidden` hidden units, and they should project back to the `n_hidden` hidden units. \n",
    "1. A forward pass will update the hidden state with the inputs and the recurrent layer weights, and produce the output from the hidden unit. Specifically you should do the following: \n",
    "    2. If we are at the first time point, the hidden state should be set to the input passed through `l1` and `tanh` activations.\n",
    "    2. If the hidden state has information from previous time points: a) Pass the input through `l1`. b) Pass the hidden state through the recurrent weight layer `hr`. c) The sum of a) and b) should be passed through the `tanh` activation. d) The result should be the new hidden state (used for the next time point).\n",
    "    2. Finally pass the hidden state through layer `l2`. This produces the output `y` for that time point.\n",
    "1. The forward pass will receive data `x` with shape [batch_size, time_points, features]. So within the forward pass, you will have to loop over time points, performing the steps as descibed above. The output of the forward pass is then output `y` with shape [batch_size, time_points, 1].\n",
    "\n",
    "Note: this exercise could also be done with nn.RNN(). However, we want you to understand what a RNN is doing, so we want you to use nn.Linear instead."
   ]
  },
  {
   "cell_type": "markdown",
   "metadata": {},
   "source": [
    "### Solution 4"
   ]
  },
  {
   "cell_type": "code",
   "execution_count": 100,
   "metadata": {},
   "outputs": [],
   "source": [
    "class RNN(torch.nn.Module):\n",
    "    def __init__(self, n_input, n_hidden, n_out):\n",
    "        super(RNN, self).__init__()\n",
    "        self.l1 = torch.nn.Linear(n_input, n_hidden)\n",
    "        self.l2 = torch.nn.Linear(n_hidden, n_out)\n",
    "        self.hr = torch.nn.Linear(n_hidden, n_hidden)\n",
    "        \n",
    "        self.tanh = nn.Tanh()\n",
    "        self.use_gpu = True  \n",
    "    \n",
    "    def forward(self, x):\n",
    "        #input consists of batch_size, time_points and features\n",
    "        output = torch.zeros(x.shape[0], x.shape[1], 1)\n",
    "        for i in range(x.shape[1]):\n",
    "            if i == 0:\n",
    "                hidden_state = self.l1(x[:,0,:])\n",
    "                hidden_state = self.tanh(hidden_state)\n",
    "            else:\n",
    "                hidden_state = self.tanh(self.l1(x[:,i,:]) + self.hr(hidden_state))\n",
    "            output[:,i,:] = self.l2(hidden_state)\n",
    "            \n",
    "        return output"
   ]
  },
  {
   "cell_type": "markdown",
   "metadata": {},
   "source": [
    "### Exercise 5: Setup and run (1 point)\n",
    "\n",
    "Try your simple `RNN` with the dynamic addition task. \n",
    "\n",
    "1. Define the model. `RNN` should have **2 hidden units**.\n",
    "1. Define the loss as the Mean Squared Error loss, and use an Adam optimizer.\n",
    "1. Train your model for several epochs on the data with `train_model`.\n",
    "1. Plot the train and validation losses. \n",
    "1. Test the trained model with `test_model` \n",
    "1. Plot at least one target time series together with the predicted time series\n",
    "\n",
    "Based on the losses and predictions, what would your conclusion be? Did the simple RNN learn the task? "
   ]
  },
  {
   "cell_type": "markdown",
   "metadata": {},
   "source": [
    "### Solution 5"
   ]
  },
  {
   "cell_type": "code",
   "execution_count": 104,
   "metadata": {},
   "outputs": [],
   "source": [
    "rnn = RNN(2, 2, 1)\n",
    "criterion = nn.MSELoss()\n",
    "optimizer = optim.Adam(rnn.parameters(), lr=0.01)\n",
    "\n",
    "model, train_loss, val_loss = train_model(rnn, data, optimizer, criterion, 150)"
   ]
  },
  {
   "cell_type": "code",
   "execution_count": 105,
   "metadata": {},
   "outputs": [
    {
     "data": {
      "image/png": "[encoded data removed]",
      "text/plain": [
       "<Figure size 432x288 with 1 Axes>"
      ]
     },
     "metadata": {
      "needs_background": "light"
     },
     "output_type": "display_data"
    }
   ],
   "source": [
    "plt.plot(train_loss)\n",
    "plt.plot(val_loss)\n",
    "plt.legend([\"Training loss\",\"Validation loss\"])\n",
    "plt.xlabel(\"Epochs\")\n",
    "plt.ylabel(\"Loss\")\n",
    "plt.show()"
   ]
  },
  {
   "cell_type": "code",
   "execution_count": 153,
   "metadata": {},
   "outputs": [
    {
     "data": {
      "image/png": "[encoded data removed]",
      "text/plain": [
       "<Figure size 432x288 with 1 Axes>"
      ]
     },
     "metadata": {
      "needs_background": "light"
     },
     "output_type": "display_data"
    }
   ],
   "source": [
    "output, target = test_model(rnn, data) #length is 9, 1, 3000\n",
    "out_list = []\n",
    "tar_list = []\n",
    "\n",
    "for i in range(len(output[0][0])):\n",
    "    out_list.append(output[0][0][i])\n",
    "    tar_list.append(target[0][0][i])\n",
    "\n",
    "plt.plot(tar_list, label = \"Target value\")\n",
    "plt.plot(out_list, label = \"Predicted value\")\n",
    "plt.title('Target and Predicted value')\n",
    "plt.legend()\n",
    "plt.xlabel(\"Time\")\n",
    "plt.ylabel(\"Value\")\n",
    "plt.show()"
   ]
  },
  {
   "cell_type": "markdown",
   "metadata": {},
   "source": [
    "### Exercise 6: LSTM RNN (2 points)\n",
    "\n",
    "Long-Short Term Memory (LSTM) units have more [powerful functionality](http://colah.github.io/posts/2015-08-Understanding-LSTMs/), such as selective forgetting, and they are able to keep track of long-term dependencies. This might be useful for the adding task. \n",
    "\n",
    "Implement the `LSTM` model:\n",
    "\n",
    "1. `lstm` should be an `LSTM` layer leading from the `n_input` inputs to the `n_hidden` hidden units.\n",
    "1. `fc` should be a fully-connected (linear) layer leading from the hidden units (output of `lstm`) to the `n_out` output units. \n",
    "1. The network does not make use of further activation functions. "
   ]
  },
  {
   "cell_type": "markdown",
   "metadata": {},
   "source": [
    "### Solution 6"
   ]
  },
  {
   "cell_type": "code",
   "execution_count": 142,
   "metadata": {},
   "outputs": [],
   "source": [
    "class LSTM(torch.nn.Module):\n",
    "    def __init__(self, n_input, n_hidden, n_out):\n",
    "        super(LSTM, self).__init__()\n",
    "        self.lstm = nn.LSTM(n_input, n_hidden)\n",
    "        self.fc = torch.nn.Linear(n_hidden, n_out)\n",
    "        \n",
    "        self.use_gpu = True    \n",
    "    \n",
    "    def forward(self, x):\n",
    "        output, states = self.lstm(x)\n",
    "        output = self.fc(output)\n",
    "        return output\n",
    "    "
   ]
  },
  {
   "cell_type": "markdown",
   "metadata": {
    "collapsed": true
   },
   "source": [
    "### Exercise 7: Setup and run (1 point)\n",
    "\n",
    "Try your `LSTM` model with the dynamic addition task. \n",
    "\n",
    "1. Define the model. `LSTM` should have **2 hidden units**.\n",
    "1. Define the loss as the Mean Squared Error loss, and use an Adam optimizer.\n",
    "1. Train your model for several epochs on the data with `train_model`.\n",
    "1. Plot the train and validation losses. \n",
    "1. Test the trained model with `test_model` \n",
    "1. Plot at least one target time series together with the predicted time series\n",
    "\n",
    "Did the LSTM network capture the task better? Did any of the two capture the task perfectly? Or are the two networks on par? "
   ]
  },
  {
   "cell_type": "markdown",
   "metadata": {},
   "source": [
    "### Solution 7"
   ]
  },
  {
   "cell_type": "code",
   "execution_count": 149,
   "metadata": {
    "scrolled": true
   },
   "outputs": [],
   "source": [
    "lstm = LSTM(2, 2, 1)\n",
    "criterion = nn.MSELoss()\n",
    "optimizer = optim.Adam(lstm.parameters(), lr=0.01)\n",
    "\n",
    "model_lstm, train_loss_lstm, val_loss_lstm = train_model(lstm, data, optimizer, criterion, 150)"
   ]
  },
  {
   "cell_type": "code",
   "execution_count": 144,
   "metadata": {},
   "outputs": [
    {
     "data": {
      "image/png": "[encoded data removed]",
      "text/plain": [
       "<Figure size 432x288 with 1 Axes>"
      ]
     },
     "metadata": {
      "needs_background": "light"
     },
     "output_type": "display_data"
    }
   ],
   "source": [
    "plt.plot(train_loss_lstm)\n",
    "plt.plot(val_loss_lstm)\n",
    "plt.title(\"Training and validation loss of the LSTM\")\n",
    "plt.legend([\"Training loss\",\"Validation loss\"])\n",
    "plt.xlabel(\"Epochs\")\n",
    "plt.ylabel(\"Loss\")\n",
    "plt.show()"
   ]
  },
  {
   "cell_type": "code",
   "execution_count": 154,
   "metadata": {},
   "outputs": [
    {
     "data": {
      "image/png": "[encoded data removed]",
      "text/plain": [
       "<Figure size 432x288 with 1 Axes>"
      ]
     },
     "metadata": {
      "needs_background": "light"
     },
     "output_type": "display_data"
    }
   ],
   "source": [
    "output_lstm, target_lstm = test_model(lstm, data) \n",
    "\n",
    "out_list_lstm = []\n",
    "tar_list_lstm = []\n",
    "for i in range(len(output_lstm[0][0])):\n",
    "    out_list_lstm.append(output_lstm[0][0][i])\n",
    "    tar_list_lstm.append(target_lstm[0][0][i])\n",
    "    \n",
    "plt.plot(tar_list_lstm, label = \"Target value\")\n",
    "plt.plot(out_list_lstm, label = \"Predicted value\")\n",
    "plt.title('Target and Predicted value')\n",
    "plt.legend()\n",
    "plt.xlabel(\"Time\")\n",
    "plt.ylabel(\"Value\")\n",
    "plt.show()"
   ]
  },
  {
   "cell_type": "markdown",
   "metadata": {},
   "source": [
    "The LTSM network did not capture the task better. Neither of the networks captured the task perfectly, however the RNN was more accurate in both terms of losses and validity as well as it being visually more fitting. \n",
    "The LTSM network performed worse, it was however significantly faster."
   ]
  }
 ],
 "metadata": {
  "anaconda-cloud": {},
  "kernelspec": {
   "display_name": "Python 3",
   "language": "python",
   "name": "python3"
  },
  "language_info": {
   "codemirror_mode": {
    "name": "ipython",
    "version": 3
   },
   "file_extension": ".py",
   "mimetype": "text/x-python",
   "name": "python",
   "nbconvert_exporter": "python",
   "pygments_lexer": "ipython3",
   "version": "3.8.3"
  }
 },
 "nbformat": 4,
 "nbformat_minor": 1
}
